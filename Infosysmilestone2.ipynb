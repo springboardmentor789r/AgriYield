{
  "nbformat": 4,
  "nbformat_minor": 0,
  "metadata": {
    "colab": {
      "provenance": [],
      "gpuType": "T4",
      "authorship_tag": "ABX9TyOiGNq7zIRqAVVKmHbn4M4Z",
      "include_colab_link": true
    },
    "kernelspec": {
      "name": "python3",
      "display_name": "Python 3"
    },
    "language_info": {
      "name": "python"
    },
    "accelerator": "GPU"
  },
  "cells": [
    {
      "cell_type": "markdown",
      "metadata": {
        "id": "view-in-github",
        "colab_type": "text"
      },
      "source": [
        "<a href=\"https://colab.research.google.com/github/springboardmentor789r/AgriYield/blob/Intern_AnushikaRana/Infosysmilestone2.ipynb\" target=\"_parent\"><img src=\"https://colab.research.google.com/assets/colab-badge.svg\" alt=\"Open In Colab\"/></a>"
      ]
    },
    {
      "cell_type": "code",
      "execution_count": 1,
      "metadata": {
        "colab": {
          "base_uri": "https://localhost:8080/"
        },
        "id": "4t9ZaTrzJsge",
        "outputId": "21f9ee94-099c-4188-b16a-417bd76b44af"
      },
      "outputs": [
        {
          "output_type": "stream",
          "name": "stdout",
          "text": [
            "Collecting category_encoders\n",
            "  Downloading category_encoders-2.8.1-py3-none-any.whl.metadata (7.9 kB)\n",
            "Requirement already satisfied: numpy>=1.14.0 in /usr/local/lib/python3.12/dist-packages (from category_encoders) (2.0.2)\n",
            "Requirement already satisfied: pandas>=1.0.5 in /usr/local/lib/python3.12/dist-packages (from category_encoders) (2.2.2)\n",
            "Requirement already satisfied: patsy>=0.5.1 in /usr/local/lib/python3.12/dist-packages (from category_encoders) (1.0.2)\n",
            "Requirement already satisfied: scikit-learn>=1.6.0 in /usr/local/lib/python3.12/dist-packages (from category_encoders) (1.6.1)\n",
            "Requirement already satisfied: scipy>=1.0.0 in /usr/local/lib/python3.12/dist-packages (from category_encoders) (1.16.3)\n",
            "Requirement already satisfied: statsmodels>=0.9.0 in /usr/local/lib/python3.12/dist-packages (from category_encoders) (0.14.5)\n",
            "Requirement already satisfied: python-dateutil>=2.8.2 in /usr/local/lib/python3.12/dist-packages (from pandas>=1.0.5->category_encoders) (2.9.0.post0)\n",
            "Requirement already satisfied: pytz>=2020.1 in /usr/local/lib/python3.12/dist-packages (from pandas>=1.0.5->category_encoders) (2025.2)\n",
            "Requirement already satisfied: tzdata>=2022.7 in /usr/local/lib/python3.12/dist-packages (from pandas>=1.0.5->category_encoders) (2025.2)\n",
            "Requirement already satisfied: joblib>=1.2.0 in /usr/local/lib/python3.12/dist-packages (from scikit-learn>=1.6.0->category_encoders) (1.5.2)\n",
            "Requirement already satisfied: threadpoolctl>=3.1.0 in /usr/local/lib/python3.12/dist-packages (from scikit-learn>=1.6.0->category_encoders) (3.6.0)\n",
            "Requirement already satisfied: packaging>=21.3 in /usr/local/lib/python3.12/dist-packages (from statsmodels>=0.9.0->category_encoders) (25.0)\n",
            "Requirement already satisfied: six>=1.5 in /usr/local/lib/python3.12/dist-packages (from python-dateutil>=2.8.2->pandas>=1.0.5->category_encoders) (1.17.0)\n",
            "Downloading category_encoders-2.8.1-py3-none-any.whl (85 kB)\n",
            "\u001b[?25l   \u001b[90m━━━━━━━━━━━━━━━━━━━━━━━━━━━━━━━━━━━━━━━━\u001b[0m \u001b[32m0.0/85.7 kB\u001b[0m \u001b[31m?\u001b[0m eta \u001b[36m-:--:--\u001b[0m\r\u001b[2K   \u001b[90m━━━━━━━━━━━━━━━━━━━━━━━━━━━━━━━━━━━━━━━━\u001b[0m \u001b[32m85.7/85.7 kB\u001b[0m \u001b[31m4.7 MB/s\u001b[0m eta \u001b[36m0:00:00\u001b[0m\n",
            "\u001b[?25hInstalling collected packages: category_encoders\n",
            "Successfully installed category_encoders-2.8.1\n"
          ]
        }
      ],
      "source": [
        "%pip install category_encoders"
      ]
    },
    {
      "cell_type": "code",
      "source": [
        "\n",
        "# STEP 1: Import Libraries\n",
        "# ============================================================\n",
        "import pandas as pd\n",
        "import numpy as np\n",
        "import matplotlib.pyplot as plt\n",
        "import seaborn as sns\n",
        "\n",
        "from sklearn.preprocessing import OneHotEncoder, LabelEncoder, MinMaxScaler, StandardScaler\n",
        "from category_encoders import LeaveOneOutEncoder"
      ],
      "metadata": {
        "id": "6mJ_QNUlJ0z-"
      },
      "execution_count": 2,
      "outputs": []
    },
    {
      "cell_type": "code",
      "source": [
        "#STEP 2: Load Dataset\n",
        "# ============================================================\n",
        "file_path = \"/content/crop_yield_dataset.csv\"\n",
        "df = pd.read_csv(file_path)"
      ],
      "metadata": {
        "id": "VTWm4YXcJ3CK"
      },
      "execution_count": 3,
      "outputs": []
    },
    {
      "cell_type": "code",
      "source": [
        "(df['Crop_Yield'] == 0).sum()"
      ],
      "metadata": {
        "colab": {
          "base_uri": "https://localhost:8080/"
        },
        "id": "jBor5_-OJ5Yd",
        "outputId": "0e0d011b-da83-4383-ccee-334d5ed19c4c"
      },
      "execution_count": 4,
      "outputs": [
        {
          "output_type": "execute_result",
          "data": {
            "text/plain": [
              "np.int64(11025)"
            ]
          },
          "metadata": {},
          "execution_count": 4
        }
      ]
    },
    {
      "cell_type": "code",
      "source": [
        "print(df.columns)"
      ],
      "metadata": {
        "colab": {
          "base_uri": "https://localhost:8080/"
        },
        "id": "UluspBm8J8AA",
        "outputId": "c82d5e39-7056-4e99-b959-a71b66b14265"
      },
      "execution_count": 5,
      "outputs": [
        {
          "output_type": "stream",
          "name": "stdout",
          "text": [
            "Index(['Date', 'Crop_Type', 'Soil_Type', 'Soil_pH', 'Temperature', 'Humidity',\n",
            "       'Wind_Speed', 'N', 'P', 'K', 'Crop_Yield', 'Soil_Quality'],\n",
            "      dtype='object')\n"
          ]
        }
      ]
    },
    {
      "cell_type": "code",
      "source": [
        "df.head()"
      ],
      "metadata": {
        "colab": {
          "base_uri": "https://localhost:8080/",
          "height": 313
        },
        "id": "WwZRd9H_J-o7",
        "outputId": "91ae5a20-64be-4828-ec9a-3108cdf271e5"
      },
      "execution_count": 6,
      "outputs": [
        {
          "output_type": "execute_result",
          "data": {
            "text/plain": [
              "         Date Crop_Type Soil_Type  Soil_pH  Temperature   Humidity  \\\n",
              "0  2014-01-01     Wheat     Peaty     5.50     9.440599  80.000000   \n",
              "1  2014-01-01      Corn     Loamy     6.50    20.052576  79.947424   \n",
              "2  2014-01-01      Rice     Peaty     5.50    12.143099  80.000000   \n",
              "3  2014-01-01    Barley     Sandy     6.75    19.751848  80.000000   \n",
              "4  2014-01-01   Soybean     Peaty     5.50    16.110395  80.000000   \n",
              "\n",
              "   Wind_Speed     N     P     K  Crop_Yield  Soil_Quality  \n",
              "0   10.956707  60.5  45.0  31.5    0.000000     22.833333  \n",
              "1    8.591577  84.0  66.0  50.0  104.871310     66.666667  \n",
              "2    7.227751  71.5  54.0  38.5    0.000000     27.333333  \n",
              "3    2.682683  50.0  40.0  30.0   58.939796     35.000000  \n",
              "4    7.696070  49.5  45.0  38.5   32.970413     22.166667  "
            ],
            "text/html": [
              "\n",
              "  <div id=\"df-754bed3f-8d08-4ba4-a973-2b153267182d\" class=\"colab-df-container\">\n",
              "    <div>\n",
              "<style scoped>\n",
              "    .dataframe tbody tr th:only-of-type {\n",
              "        vertical-align: middle;\n",
              "    }\n",
              "\n",
              "    .dataframe tbody tr th {\n",
              "        vertical-align: top;\n",
              "    }\n",
              "\n",
              "    .dataframe thead th {\n",
              "        text-align: right;\n",
              "    }\n",
              "</style>\n",
              "<table border=\"1\" class=\"dataframe\">\n",
              "  <thead>\n",
              "    <tr style=\"text-align: right;\">\n",
              "      <th></th>\n",
              "      <th>Date</th>\n",
              "      <th>Crop_Type</th>\n",
              "      <th>Soil_Type</th>\n",
              "      <th>Soil_pH</th>\n",
              "      <th>Temperature</th>\n",
              "      <th>Humidity</th>\n",
              "      <th>Wind_Speed</th>\n",
              "      <th>N</th>\n",
              "      <th>P</th>\n",
              "      <th>K</th>\n",
              "      <th>Crop_Yield</th>\n",
              "      <th>Soil_Quality</th>\n",
              "    </tr>\n",
              "  </thead>\n",
              "  <tbody>\n",
              "    <tr>\n",
              "      <th>0</th>\n",
              "      <td>2014-01-01</td>\n",
              "      <td>Wheat</td>\n",
              "      <td>Peaty</td>\n",
              "      <td>5.50</td>\n",
              "      <td>9.440599</td>\n",
              "      <td>80.000000</td>\n",
              "      <td>10.956707</td>\n",
              "      <td>60.5</td>\n",
              "      <td>45.0</td>\n",
              "      <td>31.5</td>\n",
              "      <td>0.000000</td>\n",
              "      <td>22.833333</td>\n",
              "    </tr>\n",
              "    <tr>\n",
              "      <th>1</th>\n",
              "      <td>2014-01-01</td>\n",
              "      <td>Corn</td>\n",
              "      <td>Loamy</td>\n",
              "      <td>6.50</td>\n",
              "      <td>20.052576</td>\n",
              "      <td>79.947424</td>\n",
              "      <td>8.591577</td>\n",
              "      <td>84.0</td>\n",
              "      <td>66.0</td>\n",
              "      <td>50.0</td>\n",
              "      <td>104.871310</td>\n",
              "      <td>66.666667</td>\n",
              "    </tr>\n",
              "    <tr>\n",
              "      <th>2</th>\n",
              "      <td>2014-01-01</td>\n",
              "      <td>Rice</td>\n",
              "      <td>Peaty</td>\n",
              "      <td>5.50</td>\n",
              "      <td>12.143099</td>\n",
              "      <td>80.000000</td>\n",
              "      <td>7.227751</td>\n",
              "      <td>71.5</td>\n",
              "      <td>54.0</td>\n",
              "      <td>38.5</td>\n",
              "      <td>0.000000</td>\n",
              "      <td>27.333333</td>\n",
              "    </tr>\n",
              "    <tr>\n",
              "      <th>3</th>\n",
              "      <td>2014-01-01</td>\n",
              "      <td>Barley</td>\n",
              "      <td>Sandy</td>\n",
              "      <td>6.75</td>\n",
              "      <td>19.751848</td>\n",
              "      <td>80.000000</td>\n",
              "      <td>2.682683</td>\n",
              "      <td>50.0</td>\n",
              "      <td>40.0</td>\n",
              "      <td>30.0</td>\n",
              "      <td>58.939796</td>\n",
              "      <td>35.000000</td>\n",
              "    </tr>\n",
              "    <tr>\n",
              "      <th>4</th>\n",
              "      <td>2014-01-01</td>\n",
              "      <td>Soybean</td>\n",
              "      <td>Peaty</td>\n",
              "      <td>5.50</td>\n",
              "      <td>16.110395</td>\n",
              "      <td>80.000000</td>\n",
              "      <td>7.696070</td>\n",
              "      <td>49.5</td>\n",
              "      <td>45.0</td>\n",
              "      <td>38.5</td>\n",
              "      <td>32.970413</td>\n",
              "      <td>22.166667</td>\n",
              "    </tr>\n",
              "  </tbody>\n",
              "</table>\n",
              "</div>\n",
              "    <div class=\"colab-df-buttons\">\n",
              "\n",
              "  <div class=\"colab-df-container\">\n",
              "    <button class=\"colab-df-convert\" onclick=\"convertToInteractive('df-754bed3f-8d08-4ba4-a973-2b153267182d')\"\n",
              "            title=\"Convert this dataframe to an interactive table.\"\n",
              "            style=\"display:none;\">\n",
              "\n",
              "  <svg xmlns=\"http://www.w3.org/2000/svg\" height=\"24px\" viewBox=\"0 -960 960 960\">\n",
              "    <path d=\"M120-120v-720h720v720H120Zm60-500h600v-160H180v160Zm220 220h160v-160H400v160Zm0 220h160v-160H400v160ZM180-400h160v-160H180v160Zm440 0h160v-160H620v160ZM180-180h160v-160H180v160Zm440 0h160v-160H620v160Z\"/>\n",
              "  </svg>\n",
              "    </button>\n",
              "\n",
              "  <style>\n",
              "    .colab-df-container {\n",
              "      display:flex;\n",
              "      gap: 12px;\n",
              "    }\n",
              "\n",
              "    .colab-df-convert {\n",
              "      background-color: #E8F0FE;\n",
              "      border: none;\n",
              "      border-radius: 50%;\n",
              "      cursor: pointer;\n",
              "      display: none;\n",
              "      fill: #1967D2;\n",
              "      height: 32px;\n",
              "      padding: 0 0 0 0;\n",
              "      width: 32px;\n",
              "    }\n",
              "\n",
              "    .colab-df-convert:hover {\n",
              "      background-color: #E2EBFA;\n",
              "      box-shadow: 0px 1px 2px rgba(60, 64, 67, 0.3), 0px 1px 3px 1px rgba(60, 64, 67, 0.15);\n",
              "      fill: #174EA6;\n",
              "    }\n",
              "\n",
              "    .colab-df-buttons div {\n",
              "      margin-bottom: 4px;\n",
              "    }\n",
              "\n",
              "    [theme=dark] .colab-df-convert {\n",
              "      background-color: #3B4455;\n",
              "      fill: #D2E3FC;\n",
              "    }\n",
              "\n",
              "    [theme=dark] .colab-df-convert:hover {\n",
              "      background-color: #434B5C;\n",
              "      box-shadow: 0px 1px 3px 1px rgba(0, 0, 0, 0.15);\n",
              "      filter: drop-shadow(0px 1px 2px rgba(0, 0, 0, 0.3));\n",
              "      fill: #FFFFFF;\n",
              "    }\n",
              "  </style>\n",
              "\n",
              "    <script>\n",
              "      const buttonEl =\n",
              "        document.querySelector('#df-754bed3f-8d08-4ba4-a973-2b153267182d button.colab-df-convert');\n",
              "      buttonEl.style.display =\n",
              "        google.colab.kernel.accessAllowed ? 'block' : 'none';\n",
              "\n",
              "      async function convertToInteractive(key) {\n",
              "        const element = document.querySelector('#df-754bed3f-8d08-4ba4-a973-2b153267182d');\n",
              "        const dataTable =\n",
              "          await google.colab.kernel.invokeFunction('convertToInteractive',\n",
              "                                                    [key], {});\n",
              "        if (!dataTable) return;\n",
              "\n",
              "        const docLinkHtml = 'Like what you see? Visit the ' +\n",
              "          '<a target=\"_blank\" href=https://colab.research.google.com/notebooks/data_table.ipynb>data table notebook</a>'\n",
              "          + ' to learn more about interactive tables.';\n",
              "        element.innerHTML = '';\n",
              "        dataTable['output_type'] = 'display_data';\n",
              "        await google.colab.output.renderOutput(dataTable, element);\n",
              "        const docLink = document.createElement('div');\n",
              "        docLink.innerHTML = docLinkHtml;\n",
              "        element.appendChild(docLink);\n",
              "      }\n",
              "    </script>\n",
              "  </div>\n",
              "\n",
              "\n",
              "    <div id=\"df-d147fe8d-dae6-4b7c-9f90-8e0672974ea3\">\n",
              "      <button class=\"colab-df-quickchart\" onclick=\"quickchart('df-d147fe8d-dae6-4b7c-9f90-8e0672974ea3')\"\n",
              "                title=\"Suggest charts\"\n",
              "                style=\"display:none;\">\n",
              "\n",
              "<svg xmlns=\"http://www.w3.org/2000/svg\" height=\"24px\"viewBox=\"0 0 24 24\"\n",
              "     width=\"24px\">\n",
              "    <g>\n",
              "        <path d=\"M19 3H5c-1.1 0-2 .9-2 2v14c0 1.1.9 2 2 2h14c1.1 0 2-.9 2-2V5c0-1.1-.9-2-2-2zM9 17H7v-7h2v7zm4 0h-2V7h2v10zm4 0h-2v-4h2v4z\"/>\n",
              "    </g>\n",
              "</svg>\n",
              "      </button>\n",
              "\n",
              "<style>\n",
              "  .colab-df-quickchart {\n",
              "      --bg-color: #E8F0FE;\n",
              "      --fill-color: #1967D2;\n",
              "      --hover-bg-color: #E2EBFA;\n",
              "      --hover-fill-color: #174EA6;\n",
              "      --disabled-fill-color: #AAA;\n",
              "      --disabled-bg-color: #DDD;\n",
              "  }\n",
              "\n",
              "  [theme=dark] .colab-df-quickchart {\n",
              "      --bg-color: #3B4455;\n",
              "      --fill-color: #D2E3FC;\n",
              "      --hover-bg-color: #434B5C;\n",
              "      --hover-fill-color: #FFFFFF;\n",
              "      --disabled-bg-color: #3B4455;\n",
              "      --disabled-fill-color: #666;\n",
              "  }\n",
              "\n",
              "  .colab-df-quickchart {\n",
              "    background-color: var(--bg-color);\n",
              "    border: none;\n",
              "    border-radius: 50%;\n",
              "    cursor: pointer;\n",
              "    display: none;\n",
              "    fill: var(--fill-color);\n",
              "    height: 32px;\n",
              "    padding: 0;\n",
              "    width: 32px;\n",
              "  }\n",
              "\n",
              "  .colab-df-quickchart:hover {\n",
              "    background-color: var(--hover-bg-color);\n",
              "    box-shadow: 0 1px 2px rgba(60, 64, 67, 0.3), 0 1px 3px 1px rgba(60, 64, 67, 0.15);\n",
              "    fill: var(--button-hover-fill-color);\n",
              "  }\n",
              "\n",
              "  .colab-df-quickchart-complete:disabled,\n",
              "  .colab-df-quickchart-complete:disabled:hover {\n",
              "    background-color: var(--disabled-bg-color);\n",
              "    fill: var(--disabled-fill-color);\n",
              "    box-shadow: none;\n",
              "  }\n",
              "\n",
              "  .colab-df-spinner {\n",
              "    border: 2px solid var(--fill-color);\n",
              "    border-color: transparent;\n",
              "    border-bottom-color: var(--fill-color);\n",
              "    animation:\n",
              "      spin 1s steps(1) infinite;\n",
              "  }\n",
              "\n",
              "  @keyframes spin {\n",
              "    0% {\n",
              "      border-color: transparent;\n",
              "      border-bottom-color: var(--fill-color);\n",
              "      border-left-color: var(--fill-color);\n",
              "    }\n",
              "    20% {\n",
              "      border-color: transparent;\n",
              "      border-left-color: var(--fill-color);\n",
              "      border-top-color: var(--fill-color);\n",
              "    }\n",
              "    30% {\n",
              "      border-color: transparent;\n",
              "      border-left-color: var(--fill-color);\n",
              "      border-top-color: var(--fill-color);\n",
              "      border-right-color: var(--fill-color);\n",
              "    }\n",
              "    40% {\n",
              "      border-color: transparent;\n",
              "      border-right-color: var(--fill-color);\n",
              "      border-top-color: var(--fill-color);\n",
              "    }\n",
              "    60% {\n",
              "      border-color: transparent;\n",
              "      border-right-color: var(--fill-color);\n",
              "    }\n",
              "    80% {\n",
              "      border-color: transparent;\n",
              "      border-right-color: var(--fill-color);\n",
              "      border-bottom-color: var(--fill-color);\n",
              "    }\n",
              "    90% {\n",
              "      border-color: transparent;\n",
              "      border-bottom-color: var(--fill-color);\n",
              "    }\n",
              "  }\n",
              "</style>\n",
              "\n",
              "      <script>\n",
              "        async function quickchart(key) {\n",
              "          const quickchartButtonEl =\n",
              "            document.querySelector('#' + key + ' button');\n",
              "          quickchartButtonEl.disabled = true;  // To prevent multiple clicks.\n",
              "          quickchartButtonEl.classList.add('colab-df-spinner');\n",
              "          try {\n",
              "            const charts = await google.colab.kernel.invokeFunction(\n",
              "                'suggestCharts', [key], {});\n",
              "          } catch (error) {\n",
              "            console.error('Error during call to suggestCharts:', error);\n",
              "          }\n",
              "          quickchartButtonEl.classList.remove('colab-df-spinner');\n",
              "          quickchartButtonEl.classList.add('colab-df-quickchart-complete');\n",
              "        }\n",
              "        (() => {\n",
              "          let quickchartButtonEl =\n",
              "            document.querySelector('#df-d147fe8d-dae6-4b7c-9f90-8e0672974ea3 button');\n",
              "          quickchartButtonEl.style.display =\n",
              "            google.colab.kernel.accessAllowed ? 'block' : 'none';\n",
              "        })();\n",
              "      </script>\n",
              "    </div>\n",
              "\n",
              "    </div>\n",
              "  </div>\n"
            ],
            "application/vnd.google.colaboratory.intrinsic+json": {
              "type": "dataframe",
              "variable_name": "df",
              "summary": "{\n  \"name\": \"df\",\n  \"rows\": 36520,\n  \"fields\": [\n    {\n      \"column\": \"Date\",\n      \"properties\": {\n        \"dtype\": \"object\",\n        \"num_unique_values\": 3652,\n        \"samples\": [\n          \"2017-08-06\",\n          \"2018-08-02\",\n          \"2014-08-18\"\n        ],\n        \"semantic_type\": \"\",\n        \"description\": \"\"\n      }\n    },\n    {\n      \"column\": \"Crop_Type\",\n      \"properties\": {\n        \"dtype\": \"category\",\n        \"num_unique_values\": 10,\n        \"samples\": [\n          \"Potato\",\n          \"Corn\",\n          \"Cotton\"\n        ],\n        \"semantic_type\": \"\",\n        \"description\": \"\"\n      }\n    },\n    {\n      \"column\": \"Soil_Type\",\n      \"properties\": {\n        \"dtype\": \"category\",\n        \"num_unique_values\": 5,\n        \"samples\": [\n          \"Loamy\",\n          \"Clay\",\n          \"Sandy\"\n        ],\n        \"semantic_type\": \"\",\n        \"description\": \"\"\n      }\n    },\n    {\n      \"column\": \"Soil_pH\",\n      \"properties\": {\n        \"dtype\": \"number\",\n        \"std\": 0.8169725034773053,\n        \"min\": 5.5,\n        \"max\": 8.0,\n        \"num_unique_values\": 5,\n        \"samples\": [\n          6.5,\n          6.25,\n          6.75\n        ],\n        \"semantic_type\": \"\",\n        \"description\": \"\"\n      }\n    },\n    {\n      \"column\": \"Temperature\",\n      \"properties\": {\n        \"dtype\": \"number\",\n        \"std\": 8.920518650778813,\n        \"min\": -3.5401758303833617,\n        \"max\": 54.14891085670428,\n        \"num_unique_values\": 36520,\n        \"samples\": [\n          15.192529909912569,\n          15.0261857457006,\n          23.518817946148463\n        ],\n        \"semantic_type\": \"\",\n        \"description\": \"\"\n      }\n    },\n    {\n      \"column\": \"Humidity\",\n      \"properties\": {\n        \"dtype\": \"number\",\n        \"std\": 6.767587397660083,\n        \"min\": 45.85108914329572,\n        \"max\": 80.0,\n        \"num_unique_values\": 22906,\n        \"samples\": [\n          70.16195210319945,\n          57.11336351474763,\n          65.32129462624832\n        ],\n        \"semantic_type\": \"\",\n        \"description\": \"\"\n      }\n    },\n    {\n      \"column\": \"Wind_Speed\",\n      \"properties\": {\n        \"dtype\": \"number\",\n        \"std\": 2.9983097939472185,\n        \"min\": -3.3889055812403086,\n        \"max\": 22.606077699297995,\n        \"num_unique_values\": 36520,\n        \"samples\": [\n          6.678163758417227,\n          12.518137761795195,\n          10.560165549765458\n        ],\n        \"semantic_type\": \"\",\n        \"description\": \"\"\n      }\n    },\n    {\n      \"column\": \"N\",\n      \"properties\": {\n        \"dtype\": \"number\",\n        \"std\": 10.886720778498937,\n        \"min\": 45.0,\n        \"max\": 91.0,\n        \"num_unique_values\": 20,\n        \"samples\": [\n          60.50000000000001,\n          55.0,\n          63.0\n        ],\n        \"semantic_type\": \"\",\n        \"description\": \"\"\n      }\n    },\n    {\n      \"column\": \"P\",\n      \"properties\": {\n        \"dtype\": \"number\",\n        \"std\": 8.812884270085751,\n        \"min\": 36.0,\n        \"max\": 72.0,\n        \"num_unique_values\": 16,\n        \"samples\": [\n          45.0,\n          66.0,\n          55.00000000000001\n        ],\n        \"semantic_type\": \"\",\n        \"description\": \"\"\n      }\n    },\n    {\n      \"column\": \"K\",\n      \"properties\": {\n        \"dtype\": \"number\",\n        \"std\": 8.537810498957526,\n        \"min\": 27.0,\n        \"max\": 60.0,\n        \"num_unique_values\": 18,\n        \"samples\": [\n          31.5,\n          50.0,\n          45.0\n        ],\n        \"semantic_type\": \"\",\n        \"description\": \"\"\n      }\n    },\n    {\n      \"column\": \"Crop_Yield\",\n      \"properties\": {\n        \"dtype\": \"number\",\n        \"std\": 25.740936228978562,\n        \"min\": 0.0,\n        \"max\": 136.71198172535054,\n        \"num_unique_values\": 25496,\n        \"samples\": [\n          9.37820289413844,\n          14.924893813818295,\n          27.759090764658403\n        ],\n        \"semantic_type\": \"\",\n        \"description\": \"\"\n      }\n    },\n    {\n      \"column\": \"Soil_Quality\",\n      \"properties\": {\n        \"dtype\": \"number\",\n        \"std\": 17.703171275951508,\n        \"min\": 13.291666666666666,\n        \"max\": 74.33333333333333,\n        \"num_unique_values\": 45,\n        \"samples\": [\n          42.58333333333333,\n          53.08333333333333,\n          33.83333333333333\n        ],\n        \"semantic_type\": \"\",\n        \"description\": \"\"\n      }\n    }\n  ]\n}"
            }
          },
          "metadata": {},
          "execution_count": 6
        }
      ]
    },
    {
      "cell_type": "code",
      "source": [
        "df = df[df['Crop_Yield'] != 0]"
      ],
      "metadata": {
        "id": "bqNc6AH1KB1d"
      },
      "execution_count": 7,
      "outputs": []
    },
    {
      "cell_type": "code",
      "source": [
        "# STEP 3: First Look at Dataset\n",
        "# ============================================================\n",
        "print(\"✅ First 5 rows:\")\n",
        "print(df.head())"
      ],
      "metadata": {
        "colab": {
          "base_uri": "https://localhost:8080/"
        },
        "id": "FnlivzdvKEA2",
        "outputId": "b6562910-4bad-4065-baad-cb0b7bbeb295"
      },
      "execution_count": 8,
      "outputs": [
        {
          "output_type": "stream",
          "name": "stdout",
          "text": [
            "✅ First 5 rows:\n",
            "         Date Crop_Type Soil_Type  Soil_pH  Temperature   Humidity  \\\n",
            "1  2014-01-01      Corn     Loamy     6.50    20.052576  79.947424   \n",
            "3  2014-01-01    Barley     Sandy     6.75    19.751848  80.000000   \n",
            "4  2014-01-01   Soybean     Peaty     5.50    16.110395  80.000000   \n",
            "5  2014-01-01    Cotton     Sandy     6.75    14.826739  80.000000   \n",
            "7  2014-01-01    Tomato      Clay     6.25    18.323272  80.000000   \n",
            "\n",
            "   Wind_Speed     N     P     K  Crop_Yield  Soil_Quality  \n",
            "1    8.591577  84.0  66.0  50.0  104.871310     66.666667  \n",
            "3    2.682683  50.0  40.0  30.0   58.939796     35.000000  \n",
            "4    7.696070  49.5  45.0  38.5   32.970413     22.166667  \n",
            "5   10.366657  55.0  44.0  36.0   29.356115     39.375000  \n",
            "7    8.198084  60.0  45.0  40.0   22.221375     42.291667  \n"
          ]
        }
      ]
    },
    {
      "cell_type": "code",
      "source": [
        "df = df.reset_index(drop=True)\n",
        "\n",
        "# Check the number of remaining rows\n",
        "print(\"✅ Zero-yield rows dropped successfully!\")\n",
        "print(\"Remaining rows:\", len(df))"
      ],
      "metadata": {
        "colab": {
          "base_uri": "https://localhost:8080/"
        },
        "id": "ApGmTO-QKGd8",
        "outputId": "e30ecd03-c7a9-42c0-8811-0afbc8ae576b"
      },
      "execution_count": 9,
      "outputs": [
        {
          "output_type": "stream",
          "name": "stdout",
          "text": [
            "✅ Zero-yield rows dropped successfully!\n",
            "Remaining rows: 25495\n"
          ]
        }
      ]
    },
    {
      "cell_type": "code",
      "source": [
        "print(\"\\n✅ Dataset Info:\")\n",
        "print(df.info())"
      ],
      "metadata": {
        "colab": {
          "base_uri": "https://localhost:8080/"
        },
        "id": "vuj4UxMdKJUw",
        "outputId": "1114cc7d-9b1f-4058-e321-e1bd8f72f3ab"
      },
      "execution_count": 10,
      "outputs": [
        {
          "output_type": "stream",
          "name": "stdout",
          "text": [
            "\n",
            "✅ Dataset Info:\n",
            "<class 'pandas.core.frame.DataFrame'>\n",
            "RangeIndex: 25495 entries, 0 to 25494\n",
            "Data columns (total 12 columns):\n",
            " #   Column        Non-Null Count  Dtype  \n",
            "---  ------        --------------  -----  \n",
            " 0   Date          25495 non-null  object \n",
            " 1   Crop_Type     25495 non-null  object \n",
            " 2   Soil_Type     25495 non-null  object \n",
            " 3   Soil_pH       25495 non-null  float64\n",
            " 4   Temperature   25495 non-null  float64\n",
            " 5   Humidity      25495 non-null  float64\n",
            " 6   Wind_Speed    25495 non-null  float64\n",
            " 7   N             25495 non-null  float64\n",
            " 8   P             25495 non-null  float64\n",
            " 9   K             25495 non-null  float64\n",
            " 10  Crop_Yield    25495 non-null  float64\n",
            " 11  Soil_Quality  25495 non-null  float64\n",
            "dtypes: float64(9), object(3)\n",
            "memory usage: 2.3+ MB\n",
            "None\n"
          ]
        }
      ]
    },
    {
      "cell_type": "code",
      "source": [
        "# Drop categorical columns manually\n",
        "categorical_cols = ['Crop_Type', 'Soil_Type']\n",
        "\n",
        "df_numeric = df.drop(columns=categorical_cols)\n",
        "\n",
        "print(\"Remaining columns:\", df_numeric.columns.tolist())\n"
      ],
      "metadata": {
        "colab": {
          "base_uri": "https://localhost:8080/"
        },
        "id": "Ah2_3_wvKLin",
        "outputId": "79a4f020-89e5-4f58-cf71-86528ac05fd5"
      },
      "execution_count": 12,
      "outputs": [
        {
          "output_type": "stream",
          "name": "stdout",
          "text": [
            "Remaining columns: ['Date', 'Soil_pH', 'Temperature', 'Humidity', 'Wind_Speed', 'N', 'P', 'K', 'Crop_Yield', 'Soil_Quality']\n"
          ]
        }
      ]
    },
    {
      "cell_type": "code",
      "source": [
        "df_numeric.head()"
      ],
      "metadata": {
        "colab": {
          "base_uri": "https://localhost:8080/",
          "height": 206
        },
        "id": "KSNNdYZvTa7P",
        "outputId": "58634777-e4b6-4dc0-dcbe-280dad9f4678"
      },
      "execution_count": 14,
      "outputs": [
        {
          "output_type": "execute_result",
          "data": {
            "text/plain": [
              "         Date  Soil_pH  Temperature   Humidity  Wind_Speed     N     P     K  \\\n",
              "0  2014-01-01     6.50    20.052576  79.947424    8.591577  84.0  66.0  50.0   \n",
              "1  2014-01-01     6.75    19.751848  80.000000    2.682683  50.0  40.0  30.0   \n",
              "2  2014-01-01     5.50    16.110395  80.000000    7.696070  49.5  45.0  38.5   \n",
              "3  2014-01-01     6.75    14.826739  80.000000   10.366657  55.0  44.0  36.0   \n",
              "4  2014-01-01     6.25    18.323272  80.000000    8.198084  60.0  45.0  40.0   \n",
              "\n",
              "   Crop_Yield  Soil_Quality  \n",
              "0  104.871310     66.666667  \n",
              "1   58.939796     35.000000  \n",
              "2   32.970413     22.166667  \n",
              "3   29.356115     39.375000  \n",
              "4   22.221375     42.291667  "
            ],
            "text/html": [
              "\n",
              "  <div id=\"df-b8f86992-0895-4dfa-aa11-c4547a6c7097\" class=\"colab-df-container\">\n",
              "    <div>\n",
              "<style scoped>\n",
              "    .dataframe tbody tr th:only-of-type {\n",
              "        vertical-align: middle;\n",
              "    }\n",
              "\n",
              "    .dataframe tbody tr th {\n",
              "        vertical-align: top;\n",
              "    }\n",
              "\n",
              "    .dataframe thead th {\n",
              "        text-align: right;\n",
              "    }\n",
              "</style>\n",
              "<table border=\"1\" class=\"dataframe\">\n",
              "  <thead>\n",
              "    <tr style=\"text-align: right;\">\n",
              "      <th></th>\n",
              "      <th>Date</th>\n",
              "      <th>Soil_pH</th>\n",
              "      <th>Temperature</th>\n",
              "      <th>Humidity</th>\n",
              "      <th>Wind_Speed</th>\n",
              "      <th>N</th>\n",
              "      <th>P</th>\n",
              "      <th>K</th>\n",
              "      <th>Crop_Yield</th>\n",
              "      <th>Soil_Quality</th>\n",
              "    </tr>\n",
              "  </thead>\n",
              "  <tbody>\n",
              "    <tr>\n",
              "      <th>0</th>\n",
              "      <td>2014-01-01</td>\n",
              "      <td>6.50</td>\n",
              "      <td>20.052576</td>\n",
              "      <td>79.947424</td>\n",
              "      <td>8.591577</td>\n",
              "      <td>84.0</td>\n",
              "      <td>66.0</td>\n",
              "      <td>50.0</td>\n",
              "      <td>104.871310</td>\n",
              "      <td>66.666667</td>\n",
              "    </tr>\n",
              "    <tr>\n",
              "      <th>1</th>\n",
              "      <td>2014-01-01</td>\n",
              "      <td>6.75</td>\n",
              "      <td>19.751848</td>\n",
              "      <td>80.000000</td>\n",
              "      <td>2.682683</td>\n",
              "      <td>50.0</td>\n",
              "      <td>40.0</td>\n",
              "      <td>30.0</td>\n",
              "      <td>58.939796</td>\n",
              "      <td>35.000000</td>\n",
              "    </tr>\n",
              "    <tr>\n",
              "      <th>2</th>\n",
              "      <td>2014-01-01</td>\n",
              "      <td>5.50</td>\n",
              "      <td>16.110395</td>\n",
              "      <td>80.000000</td>\n",
              "      <td>7.696070</td>\n",
              "      <td>49.5</td>\n",
              "      <td>45.0</td>\n",
              "      <td>38.5</td>\n",
              "      <td>32.970413</td>\n",
              "      <td>22.166667</td>\n",
              "    </tr>\n",
              "    <tr>\n",
              "      <th>3</th>\n",
              "      <td>2014-01-01</td>\n",
              "      <td>6.75</td>\n",
              "      <td>14.826739</td>\n",
              "      <td>80.000000</td>\n",
              "      <td>10.366657</td>\n",
              "      <td>55.0</td>\n",
              "      <td>44.0</td>\n",
              "      <td>36.0</td>\n",
              "      <td>29.356115</td>\n",
              "      <td>39.375000</td>\n",
              "    </tr>\n",
              "    <tr>\n",
              "      <th>4</th>\n",
              "      <td>2014-01-01</td>\n",
              "      <td>6.25</td>\n",
              "      <td>18.323272</td>\n",
              "      <td>80.000000</td>\n",
              "      <td>8.198084</td>\n",
              "      <td>60.0</td>\n",
              "      <td>45.0</td>\n",
              "      <td>40.0</td>\n",
              "      <td>22.221375</td>\n",
              "      <td>42.291667</td>\n",
              "    </tr>\n",
              "  </tbody>\n",
              "</table>\n",
              "</div>\n",
              "    <div class=\"colab-df-buttons\">\n",
              "\n",
              "  <div class=\"colab-df-container\">\n",
              "    <button class=\"colab-df-convert\" onclick=\"convertToInteractive('df-b8f86992-0895-4dfa-aa11-c4547a6c7097')\"\n",
              "            title=\"Convert this dataframe to an interactive table.\"\n",
              "            style=\"display:none;\">\n",
              "\n",
              "  <svg xmlns=\"http://www.w3.org/2000/svg\" height=\"24px\" viewBox=\"0 -960 960 960\">\n",
              "    <path d=\"M120-120v-720h720v720H120Zm60-500h600v-160H180v160Zm220 220h160v-160H400v160Zm0 220h160v-160H400v160ZM180-400h160v-160H180v160Zm440 0h160v-160H620v160ZM180-180h160v-160H180v160Zm440 0h160v-160H620v160Z\"/>\n",
              "  </svg>\n",
              "    </button>\n",
              "\n",
              "  <style>\n",
              "    .colab-df-container {\n",
              "      display:flex;\n",
              "      gap: 12px;\n",
              "    }\n",
              "\n",
              "    .colab-df-convert {\n",
              "      background-color: #E8F0FE;\n",
              "      border: none;\n",
              "      border-radius: 50%;\n",
              "      cursor: pointer;\n",
              "      display: none;\n",
              "      fill: #1967D2;\n",
              "      height: 32px;\n",
              "      padding: 0 0 0 0;\n",
              "      width: 32px;\n",
              "    }\n",
              "\n",
              "    .colab-df-convert:hover {\n",
              "      background-color: #E2EBFA;\n",
              "      box-shadow: 0px 1px 2px rgba(60, 64, 67, 0.3), 0px 1px 3px 1px rgba(60, 64, 67, 0.15);\n",
              "      fill: #174EA6;\n",
              "    }\n",
              "\n",
              "    .colab-df-buttons div {\n",
              "      margin-bottom: 4px;\n",
              "    }\n",
              "\n",
              "    [theme=dark] .colab-df-convert {\n",
              "      background-color: #3B4455;\n",
              "      fill: #D2E3FC;\n",
              "    }\n",
              "\n",
              "    [theme=dark] .colab-df-convert:hover {\n",
              "      background-color: #434B5C;\n",
              "      box-shadow: 0px 1px 3px 1px rgba(0, 0, 0, 0.15);\n",
              "      filter: drop-shadow(0px 1px 2px rgba(0, 0, 0, 0.3));\n",
              "      fill: #FFFFFF;\n",
              "    }\n",
              "  </style>\n",
              "\n",
              "    <script>\n",
              "      const buttonEl =\n",
              "        document.querySelector('#df-b8f86992-0895-4dfa-aa11-c4547a6c7097 button.colab-df-convert');\n",
              "      buttonEl.style.display =\n",
              "        google.colab.kernel.accessAllowed ? 'block' : 'none';\n",
              "\n",
              "      async function convertToInteractive(key) {\n",
              "        const element = document.querySelector('#df-b8f86992-0895-4dfa-aa11-c4547a6c7097');\n",
              "        const dataTable =\n",
              "          await google.colab.kernel.invokeFunction('convertToInteractive',\n",
              "                                                    [key], {});\n",
              "        if (!dataTable) return;\n",
              "\n",
              "        const docLinkHtml = 'Like what you see? Visit the ' +\n",
              "          '<a target=\"_blank\" href=https://colab.research.google.com/notebooks/data_table.ipynb>data table notebook</a>'\n",
              "          + ' to learn more about interactive tables.';\n",
              "        element.innerHTML = '';\n",
              "        dataTable['output_type'] = 'display_data';\n",
              "        await google.colab.output.renderOutput(dataTable, element);\n",
              "        const docLink = document.createElement('div');\n",
              "        docLink.innerHTML = docLinkHtml;\n",
              "        element.appendChild(docLink);\n",
              "      }\n",
              "    </script>\n",
              "  </div>\n",
              "\n",
              "\n",
              "    <div id=\"df-f59108ea-e9a1-4bf6-a840-6308af92da1a\">\n",
              "      <button class=\"colab-df-quickchart\" onclick=\"quickchart('df-f59108ea-e9a1-4bf6-a840-6308af92da1a')\"\n",
              "                title=\"Suggest charts\"\n",
              "                style=\"display:none;\">\n",
              "\n",
              "<svg xmlns=\"http://www.w3.org/2000/svg\" height=\"24px\"viewBox=\"0 0 24 24\"\n",
              "     width=\"24px\">\n",
              "    <g>\n",
              "        <path d=\"M19 3H5c-1.1 0-2 .9-2 2v14c0 1.1.9 2 2 2h14c1.1 0 2-.9 2-2V5c0-1.1-.9-2-2-2zM9 17H7v-7h2v7zm4 0h-2V7h2v10zm4 0h-2v-4h2v4z\"/>\n",
              "    </g>\n",
              "</svg>\n",
              "      </button>\n",
              "\n",
              "<style>\n",
              "  .colab-df-quickchart {\n",
              "      --bg-color: #E8F0FE;\n",
              "      --fill-color: #1967D2;\n",
              "      --hover-bg-color: #E2EBFA;\n",
              "      --hover-fill-color: #174EA6;\n",
              "      --disabled-fill-color: #AAA;\n",
              "      --disabled-bg-color: #DDD;\n",
              "  }\n",
              "\n",
              "  [theme=dark] .colab-df-quickchart {\n",
              "      --bg-color: #3B4455;\n",
              "      --fill-color: #D2E3FC;\n",
              "      --hover-bg-color: #434B5C;\n",
              "      --hover-fill-color: #FFFFFF;\n",
              "      --disabled-bg-color: #3B4455;\n",
              "      --disabled-fill-color: #666;\n",
              "  }\n",
              "\n",
              "  .colab-df-quickchart {\n",
              "    background-color: var(--bg-color);\n",
              "    border: none;\n",
              "    border-radius: 50%;\n",
              "    cursor: pointer;\n",
              "    display: none;\n",
              "    fill: var(--fill-color);\n",
              "    height: 32px;\n",
              "    padding: 0;\n",
              "    width: 32px;\n",
              "  }\n",
              "\n",
              "  .colab-df-quickchart:hover {\n",
              "    background-color: var(--hover-bg-color);\n",
              "    box-shadow: 0 1px 2px rgba(60, 64, 67, 0.3), 0 1px 3px 1px rgba(60, 64, 67, 0.15);\n",
              "    fill: var(--button-hover-fill-color);\n",
              "  }\n",
              "\n",
              "  .colab-df-quickchart-complete:disabled,\n",
              "  .colab-df-quickchart-complete:disabled:hover {\n",
              "    background-color: var(--disabled-bg-color);\n",
              "    fill: var(--disabled-fill-color);\n",
              "    box-shadow: none;\n",
              "  }\n",
              "\n",
              "  .colab-df-spinner {\n",
              "    border: 2px solid var(--fill-color);\n",
              "    border-color: transparent;\n",
              "    border-bottom-color: var(--fill-color);\n",
              "    animation:\n",
              "      spin 1s steps(1) infinite;\n",
              "  }\n",
              "\n",
              "  @keyframes spin {\n",
              "    0% {\n",
              "      border-color: transparent;\n",
              "      border-bottom-color: var(--fill-color);\n",
              "      border-left-color: var(--fill-color);\n",
              "    }\n",
              "    20% {\n",
              "      border-color: transparent;\n",
              "      border-left-color: var(--fill-color);\n",
              "      border-top-color: var(--fill-color);\n",
              "    }\n",
              "    30% {\n",
              "      border-color: transparent;\n",
              "      border-left-color: var(--fill-color);\n",
              "      border-top-color: var(--fill-color);\n",
              "      border-right-color: var(--fill-color);\n",
              "    }\n",
              "    40% {\n",
              "      border-color: transparent;\n",
              "      border-right-color: var(--fill-color);\n",
              "      border-top-color: var(--fill-color);\n",
              "    }\n",
              "    60% {\n",
              "      border-color: transparent;\n",
              "      border-right-color: var(--fill-color);\n",
              "    }\n",
              "    80% {\n",
              "      border-color: transparent;\n",
              "      border-right-color: var(--fill-color);\n",
              "      border-bottom-color: var(--fill-color);\n",
              "    }\n",
              "    90% {\n",
              "      border-color: transparent;\n",
              "      border-bottom-color: var(--fill-color);\n",
              "    }\n",
              "  }\n",
              "</style>\n",
              "\n",
              "      <script>\n",
              "        async function quickchart(key) {\n",
              "          const quickchartButtonEl =\n",
              "            document.querySelector('#' + key + ' button');\n",
              "          quickchartButtonEl.disabled = true;  // To prevent multiple clicks.\n",
              "          quickchartButtonEl.classList.add('colab-df-spinner');\n",
              "          try {\n",
              "            const charts = await google.colab.kernel.invokeFunction(\n",
              "                'suggestCharts', [key], {});\n",
              "          } catch (error) {\n",
              "            console.error('Error during call to suggestCharts:', error);\n",
              "          }\n",
              "          quickchartButtonEl.classList.remove('colab-df-spinner');\n",
              "          quickchartButtonEl.classList.add('colab-df-quickchart-complete');\n",
              "        }\n",
              "        (() => {\n",
              "          let quickchartButtonEl =\n",
              "            document.querySelector('#df-f59108ea-e9a1-4bf6-a840-6308af92da1a button');\n",
              "          quickchartButtonEl.style.display =\n",
              "            google.colab.kernel.accessAllowed ? 'block' : 'none';\n",
              "        })();\n",
              "      </script>\n",
              "    </div>\n",
              "\n",
              "    </div>\n",
              "  </div>\n"
            ],
            "application/vnd.google.colaboratory.intrinsic+json": {
              "type": "dataframe",
              "variable_name": "df_numeric",
              "summary": "{\n  \"name\": \"df_numeric\",\n  \"rows\": 25495,\n  \"fields\": [\n    {\n      \"column\": \"Date\",\n      \"properties\": {\n        \"dtype\": \"object\",\n        \"num_unique_values\": 3624,\n        \"samples\": [\n          \"2015-09-07\",\n          \"2017-12-30\",\n          \"2023-04-15\"\n        ],\n        \"semantic_type\": \"\",\n        \"description\": \"\"\n      }\n    },\n    {\n      \"column\": \"Soil_pH\",\n      \"properties\": {\n        \"dtype\": \"number\",\n        \"std\": 0.8174104815320116,\n        \"min\": 5.5,\n        \"max\": 8.0,\n        \"num_unique_values\": 5,\n        \"samples\": [\n          6.75,\n          8.0,\n          5.5\n        ],\n        \"semantic_type\": \"\",\n        \"description\": \"\"\n      }\n    },\n    {\n      \"column\": \"Temperature\",\n      \"properties\": {\n        \"dtype\": \"number\",\n        \"std\": 5.499281648373672,\n        \"min\": 10.0003404736127,\n        \"max\": 34.99594440658824,\n        \"num_unique_values\": 25495,\n        \"samples\": [\n          11.892124647004096,\n          20.219784934876746,\n          22.96481976518649\n        ],\n        \"semantic_type\": \"\",\n        \"description\": \"\"\n      }\n    },\n    {\n      \"column\": \"Humidity\",\n      \"properties\": {\n        \"dtype\": \"number\",\n        \"std\": 3.7647788952433534,\n        \"min\": 65.00405559341176,\n        \"max\": 80.0,\n        \"num_unique_values\": 14855,\n        \"samples\": [\n          75.71413319297575,\n          65.26553114047442,\n          79.25550162927817\n        ],\n        \"semantic_type\": \"\",\n        \"description\": \"\"\n      }\n    },\n    {\n      \"column\": \"Wind_Speed\",\n      \"properties\": {\n        \"dtype\": \"number\",\n        \"std\": 3.002739209243859,\n        \"min\": -3.3889055812403086,\n        \"max\": 20.79943510703064,\n        \"num_unique_values\": 25495,\n        \"samples\": [\n          10.336466807847646,\n          9.039856729668545,\n          12.384555506464862\n        ],\n        \"semantic_type\": \"\",\n        \"description\": \"\"\n      }\n    },\n    {\n      \"column\": \"N\",\n      \"properties\": {\n        \"dtype\": \"number\",\n        \"std\": 10.906078886826894,\n        \"min\": 45.0,\n        \"max\": 91.0,\n        \"num_unique_values\": 20,\n        \"samples\": [\n          84.0,\n          55.0,\n          63.0\n        ],\n        \"semantic_type\": \"\",\n        \"description\": \"\"\n      }\n    },\n    {\n      \"column\": \"P\",\n      \"properties\": {\n        \"dtype\": \"number\",\n        \"std\": 8.81580411007687,\n        \"min\": 36.0,\n        \"max\": 72.0,\n        \"num_unique_values\": 16,\n        \"samples\": [\n          66.0,\n          40.0,\n          55.0\n        ],\n        \"semantic_type\": \"\",\n        \"description\": \"\"\n      }\n    },\n    {\n      \"column\": \"K\",\n      \"properties\": {\n        \"dtype\": \"number\",\n        \"std\": 8.528550655009749,\n        \"min\": 27.0,\n        \"max\": 60.0,\n        \"num_unique_values\": 18,\n        \"samples\": [\n          50.0,\n          30.0,\n          60.0\n        ],\n        \"semantic_type\": \"\",\n        \"description\": \"\"\n      }\n    },\n    {\n      \"column\": \"Crop_Yield\",\n      \"properties\": {\n        \"dtype\": \"number\",\n        \"std\": 22.39653398687731,\n        \"min\": 0.0017611708363326,\n        \"max\": 136.71198172535054,\n        \"num_unique_values\": 25495,\n        \"samples\": [\n          17.603607671273032,\n          37.28621933774881,\n          81.83609297916259\n        ],\n        \"semantic_type\": \"\",\n        \"description\": \"\"\n      }\n    },\n    {\n      \"column\": \"Soil_Quality\",\n      \"properties\": {\n        \"dtype\": \"number\",\n        \"std\": 17.705394045880492,\n        \"min\": 13.291666666666666,\n        \"max\": 74.33333333333333,\n        \"num_unique_values\": 45,\n        \"samples\": [\n          27.33333333333333,\n          74.33333333333333,\n          72.66666666666667\n        ],\n        \"semantic_type\": \"\",\n        \"description\": \"\"\n      }\n    }\n  ]\n}"
            }
          },
          "metadata": {},
          "execution_count": 14
        }
      ]
    },
    {
      "cell_type": "code",
      "source": [
        "# Convert 'Date' column to datetime format if not already\n",
        "df_numeric['Date'] = pd.to_datetime(df_numeric['Date'])\n",
        "\n",
        "# Set 'Date' as the index\n",
        "df_numeric.set_index('Date', inplace=True)\n",
        "\n",
        "# Resample data per day and take the mean of all numeric columns\n",
        "df_daily_mean = df_numeric.resample('D').mean()\n",
        "\n",
        "# Display the first few rows\n",
        "print(df_daily_mean.head())\n"
      ],
      "metadata": {
        "id": "hdNxOxdwMol7",
        "colab": {
          "base_uri": "https://localhost:8080/"
        },
        "outputId": "a681380d-8ed8-4898-c78d-993172ef7c2f"
      },
      "execution_count": 15,
      "outputs": [
        {
          "output_type": "stream",
          "name": "stdout",
          "text": [
            "             Soil_pH  Temperature   Humidity  Wind_Speed          N  \\\n",
            "Date                                                                  \n",
            "2014-01-01  6.250000    17.832341  79.992489    7.649061  61.285714   \n",
            "2014-01-02  6.928571    17.403738  79.997477    9.731096  67.285714   \n",
            "2014-01-03  6.250000    17.710699  78.611669   12.161914  60.785714   \n",
            "2014-01-04  7.125000    17.068594  79.349411    9.476664  69.375000   \n",
            "2014-01-05  6.375000    15.439732  80.000000   10.793227  68.062500   \n",
            "\n",
            "                    P          K  Crop_Yield  Soil_Quality  \n",
            "Date                                                        \n",
            "2014-01-01  50.142857  40.142857   52.962570     41.714286  \n",
            "2014-01-02  54.500000  43.785714   49.481053     31.964286  \n",
            "2014-01-03  49.571429  40.142857   31.582386     40.601190  \n",
            "2014-01-04  56.000000  44.937500   35.247034     38.703125  \n",
            "2014-01-05  54.562500  43.125000   32.578187     48.994792  \n"
          ]
        }
      ]
    },
    {
      "cell_type": "code",
      "source": [
        "import matplotlib.pyplot as plt\n",
        "import seaborn as sns\n",
        "from statsmodels.tsa.stattools import adfuller, kpss\n",
        "from statsmodels.graphics.tsaplots import plot_acf, plot_pacf\n",
        "\n",
        "# Let's test for a specific column, e.g., 'Crop_Yield'\n",
        "series = df_daily_mean['Crop_Yield'].dropna()\n"
      ],
      "metadata": {
        "id": "PUfv3DfyT5UX"
      },
      "execution_count": 16,
      "outputs": []
    },
    {
      "cell_type": "code",
      "source": [
        "import matplotlib.pyplot as plt\n",
        "import seaborn as sns\n",
        "from statsmodels.tsa.stattools import adfuller, kpss\n",
        "from statsmodels.graphics.tsaplots import plot_acf, plot_pacf\n",
        "\n",
        "# Let's test for a specific column, e.g., 'Crop_Yield'\n",
        "series = df_daily_mean['Crop_Yield'].dropna()\n",
        "\n",
        "# ==============================\n",
        "# 1️⃣ Plot the time series\n",
        "# ==============================\n",
        "plt.figure(figsize=(10,4))\n",
        "plt.plot(series, color='blue')\n",
        "plt.title('Daily Crop Yield Trend')\n",
        "plt.xlabel('Date')\n",
        "plt.ylabel('Crop Yield')\n",
        "plt.show()\n",
        "\n",
        "\n",
        "\n",
        "\n",
        "\n"
      ],
      "metadata": {
        "colab": {
          "base_uri": "https://localhost:8080/",
          "height": 410
        },
        "id": "AYLgVuJYUkLI",
        "outputId": "68be6a9c-e824-4c69-eee4-e1e41f883420"
      },
      "execution_count": 22,
      "outputs": [
        {
          "output_type": "display_data",
          "data": {
            "text/plain": [
              "<Figure size 1000x400 with 1 Axes>"
            ],
            "image/png": "[encoded data removed]"
          },
          "metadata": {}
        }
      ]
    },
    {
      "cell_type": "code",
      "source": [
        "# ==============================\n",
        "# 2️⃣ Augmented Dickey-Fuller (ADF) Test\n",
        "# ==============================\n",
        "adf_result = adfuller(series)\n",
        "print(\"ADF Test:\")\n",
        "print(f\"ADF Statistic: {adf_result[0]}\")\n",
        "print(f\"p-value: {adf_result[1]}\")\n",
        "print(f\"Critical Values: {adf_result[4]}\")\n",
        "if adf_result[1] < 0.05:\n",
        "    print(\"✅ Series is Stationary (Reject H0)\")\n",
        "else:\n",
        "    print(\"❌ Series is Non-Stationary (Fail to Reject H0)\")"
      ],
      "metadata": {
        "colab": {
          "base_uri": "https://localhost:8080/"
        },
        "id": "bWfuzBeKVSP4",
        "outputId": "a988cca2-9fc3-4dc5-d7d7-86e4f71a6362"
      },
      "execution_count": 21,
      "outputs": [
        {
          "output_type": "stream",
          "name": "stdout",
          "text": [
            "ADF Test:\n",
            "ADF Statistic: -7.148107107405433\n",
            "p-value: 3.193310854138931e-10\n",
            "Critical Values: {'1%': np.float64(-3.4321632328202996), '5%': np.float64(-2.862341184885642), '10%': np.float64(-2.567196483328331)}\n",
            "✅ Series is Stationary (Reject H0)\n"
          ]
        }
      ]
    },
    {
      "cell_type": "code",
      "source": [
        "# 3️⃣ KPSS Test\n",
        "# ==============================\n",
        "kpss_result = kpss(series, regression='c', nlags='auto')\n",
        "print(\"\\nKPSS Test:\")\n",
        "print(f\"KPSS Statistic: {kpss_result[0]}\")\n",
        "print(f\"p-value: {kpss_result[1]}\")\n",
        "print(f\"Critical Values: {kpss_result[3]}\")\n",
        "if kpss_result[1] < 0.05:\n",
        "    print(\"❌ Series is Non-Stationary (Reject H0)\")\n",
        "else:\n",
        "    print(\"✅ Series is Stationary (Fail to Reject H0)\")\n"
      ],
      "metadata": {
        "colab": {
          "base_uri": "https://localhost:8080/"
        },
        "id": "uYeAX6GTVM65",
        "outputId": "22bf6284-cd18-4604-e290-8a8749c84adc"
      },
      "execution_count": 19,
      "outputs": [
        {
          "output_type": "stream",
          "name": "stdout",
          "text": [
            "\n",
            "KPSS Test:\n",
            "KPSS Statistic: 0.043423677627070334\n",
            "p-value: 0.1\n",
            "Critical Values: {'10%': 0.347, '5%': 0.463, '2.5%': 0.574, '1%': 0.739}\n",
            "✅ Series is Stationary (Fail to Reject H0)\n"
          ]
        },
        {
          "output_type": "stream",
          "name": "stderr",
          "text": [
            "/tmp/ipython-input-1784150439.py:3: InterpolationWarning: The test statistic is outside of the range of p-values available in the\n",
            "look-up table. The actual p-value is greater than the p-value returned.\n",
            "\n",
            "  kpss_result = kpss(series, regression='c', nlags='auto')\n"
          ]
        }
      ]
    },
    {
      "cell_type": "code",
      "source": [
        "# 4️⃣ ACF and PACF Plots\n",
        "# ==============================\n",
        "fig, axes = plt.subplots(1, 2, figsize=(12, 4))\n",
        "plot_acf(series, lags=30, ax=axes[0])\n",
        "plot_pacf(series, lags=30, ax=axes[1])\n",
        "axes[0].set_title('Autocorrelation (ACF)')\n",
        "axes[1].set_title('Partial Autocorrelation (PACF)')\n",
        "plt.show()\n"
      ],
      "metadata": {
        "colab": {
          "base_uri": "https://localhost:8080/",
          "height": 361
        },
        "id": "1k1MXM9aVI8T",
        "outputId": "050cec52-a7eb-421b-fd50-afb817e34df9"
      },
      "execution_count": 18,
      "outputs": [
        {
          "output_type": "display_data",
          "data": {
            "text/plain": [
              "<Figure size 1200x400 with 2 Axes>"
            ],
            "image/png": "[encoded data removed]"
          },
          "metadata": {}
        }
      ]
    },
    {
      "cell_type": "code",
      "source": [
        "from statsmodels.tsa.arima.model import ARIMA\n",
        "import matplotlib.pyplot as plt\n",
        "\n",
        "# Fit ARIMA model\n",
        "model = ARIMA(series, order=(1, 0, 1))  # (p=1, d=0, q=1) as an example\n",
        "model_fit = model.fit()\n",
        "\n",
        "# Summary of model\n",
        "print(model_fit.summary())\n",
        "\n",
        "# Plot fitted vs actual\n",
        "plt.figure(figsize=(10,5))\n",
        "plt.plot(series, label='Original')\n",
        "plt.plot(model_fit.fittedvalues, color='red', label='Fitted')\n",
        "plt.legend()\n",
        "plt.show()\n"
      ],
      "metadata": {
        "colab": {
          "base_uri": "https://localhost:8080/",
          "height": 1000
        },
        "id": "nvj3sN70Xbnl",
        "outputId": "c6ce459a-ecc6-4023-b929-e7f6d1fd5dc5"
      },
      "execution_count": 30,
      "outputs": [
        {
          "output_type": "stream",
          "name": "stderr",
          "text": [
            "/usr/local/lib/python3.12/dist-packages/statsmodels/tsa/base/tsa_model.py:473: ValueWarning: A date index has been provided, but it has no associated frequency information and so will be ignored when e.g. forecasting.\n",
            "  self._init_dates(dates, freq)\n",
            "/usr/local/lib/python3.12/dist-packages/statsmodels/tsa/base/tsa_model.py:473: ValueWarning: A date index has been provided, but it has no associated frequency information and so will be ignored when e.g. forecasting.\n",
            "  self._init_dates(dates, freq)\n",
            "/usr/local/lib/python3.12/dist-packages/statsmodels/tsa/base/tsa_model.py:473: ValueWarning: A date index has been provided, but it has no associated frequency information and so will be ignored when e.g. forecasting.\n",
            "  self._init_dates(dates, freq)\n"
          ]
        },
        {
          "output_type": "stream",
          "name": "stdout",
          "text": [
            "                               SARIMAX Results                                \n",
            "==============================================================================\n",
            "Dep. Variable:             Crop_Yield   No. Observations:                 3624\n",
            "Model:                 ARIMA(1, 0, 1)   Log Likelihood              -13497.510\n",
            "Date:                Fri, 31 Oct 2025   AIC                          27003.020\n",
            "Time:                        13:28:00   BIC                          27027.801\n",
            "Sample:                             0   HQIC                         27011.848\n",
            "                               - 3624                                         \n",
            "Covariance Type:                  opg                                         \n",
            "==============================================================================\n",
            "                 coef    std err          z      P>|z|      [0.025      0.975]\n",
            "------------------------------------------------------------------------------\n",
            "const         35.7733      1.270     28.164      0.000      33.284      38.263\n",
            "ar.L1          0.9752      0.004    226.470      0.000       0.967       0.984\n",
            "ma.L1         -0.8275      0.010    -80.564      0.000      -0.848      -0.807\n",
            "sigma2       100.5672      1.754     57.350      0.000      97.130     104.004\n",
            "===================================================================================\n",
            "Ljung-Box (L1) (Q):                   1.61   Jarque-Bera (JB):               984.31\n",
            "Prob(Q):                              0.20   Prob(JB):                         0.00\n",
            "Heteroskedasticity (H):               1.04   Skew:                             0.44\n",
            "Prob(H) (two-sided):                  0.55   Kurtosis:                         5.40\n",
            "===================================================================================\n",
            "\n",
            "Warnings:\n",
            "[1] Covariance matrix calculated using the outer product of gradients (complex-step).\n"
          ]
        },
        {
          "output_type": "display_data",
          "data": {
            "text/plain": [
              "<Figure size 1000x500 with 1 Axes>"
            ],
            "image/png": "[encoded data removed]"
          },
          "metadata": {}
        }
      ]
    },
    {
      "cell_type": "code",
      "metadata": {
        "colab": {
          "base_uri": "https://localhost:8080/"
        },
        "id": "f6e4521c",
        "outputId": "a7682045-082b-48f2-a0de-726f1ad274a1"
      },
      "source": [
        "%pip install pmdarima --upgrade --no-deps"
      ],
      "execution_count": 28,
      "outputs": [
        {
          "output_type": "stream",
          "name": "stdout",
          "text": [
            "Requirement already satisfied: pmdarima in /usr/local/lib/python3.12/dist-packages (2.0.4)\n"
          ]
        }
      ]
    },
    {
      "cell_type": "code",
      "source": [],
      "metadata": {
        "id": "uBWV5BcnZ7K_"
      },
      "execution_count": null,
      "outputs": []
    }
  ]
}